{
 "cells": [
  {
   "cell_type": "code",
   "execution_count": 1,
   "metadata": {
    "ExecuteTime": {
     "end_time": "2023-08-21T07:33:06.285605Z",
     "start_time": "2023-08-21T07:33:05.776173Z"
    }
   },
   "outputs": [],
   "source": [
    "import re\n",
    "from pathlib import Path\n",
    "\n",
    "import matplotlib\n",
    "import matplotlib.pyplot as plt\n",
    "from mpl_toolkits.axes_grid1.inset_locator import inset_axes\n",
    "import numpy as np\n",
    "import pandas as pd\n",
    "\n",
    "DATA_PATH = Path.cwd().parents[0] / \"data\"\n",
    "FIGURE_PATH = Path.cwd().parents[0] / \"figures\""
   ]
  },
  {
   "cell_type": "code",
   "execution_count": 2,
   "metadata": {
    "ExecuteTime": {
     "end_time": "2023-08-21T07:33:06.321232Z",
     "start_time": "2023-08-21T07:33:06.289511Z"
    }
   },
   "outputs": [
    {
     "data": {
      "text/html": [
       "<div>\n",
       "<style scoped>\n",
       "    .dataframe tbody tr th:only-of-type {\n",
       "        vertical-align: middle;\n",
       "    }\n",
       "\n",
       "    .dataframe tbody tr th {\n",
       "        vertical-align: top;\n",
       "    }\n",
       "\n",
       "    .dataframe thead th {\n",
       "        text-align: right;\n",
       "    }\n",
       "</style>\n",
       "<table border=\"1\" class=\"dataframe\">\n",
       "  <thead>\n",
       "    <tr style=\"text-align: right;\">\n",
       "      <th></th>\n",
       "      <th>Person in charge</th>\n",
       "      <th>Authors</th>\n",
       "      <th>Year</th>\n",
       "      <th>Title</th>\n",
       "      <th>DOI or PMID</th>\n",
       "      <th>Language</th>\n",
       "      <th>Country (e.g., where RCT was performed)</th>\n",
       "      <th>Included/exclude</th>\n",
       "      <th>Reason for exclusion</th>\n",
       "      <th>Reason for exclusion.1</th>\n",
       "      <th>...</th>\n",
       "      <th>Timing of assessement.1</th>\n",
       "      <th>Was observer blinded?.1</th>\n",
       "      <th>Drug effect on neuroanatomical assessment</th>\n",
       "      <th>Drug effect on neuroanatomical assessment (details)</th>\n",
       "      <th>Drugs given to treat infections/pain ect.</th>\n",
       "      <th>Conclusion of study</th>\n",
       "      <th>Limitations</th>\n",
       "      <th>Remarks/Comments</th>\n",
       "      <th>Combination of drugs tested</th>\n",
       "      <th>Contradictions present in the results</th>\n",
       "    </tr>\n",
       "  </thead>\n",
       "  <tbody>\n",
       "    <tr>\n",
       "      <th>45</th>\n",
       "      <td>Lucie</td>\n",
       "      <td>Pinzon et al.</td>\n",
       "      <td>2008</td>\n",
       "      <td>A re-assessment of minocycline as a neuroprote...</td>\n",
       "      <td>10.1016/j.brainres.2008.09.047</td>\n",
       "      <td>English</td>\n",
       "      <td>NaN</td>\n",
       "      <td>included</td>\n",
       "      <td>NaN</td>\n",
       "      <td>NaN</td>\n",
       "      <td>...</td>\n",
       "      <td>6 weeks</td>\n",
       "      <td>not reported</td>\n",
       "      <td>no effect</td>\n",
       "      <td>spared tissue area or cavitation were not sign...</td>\n",
       "      <td>anesthesia: inhaled halothane was followed by ...</td>\n",
       "      <td>Administration of minocycline after SCI did no...</td>\n",
       "      <td>not reported</td>\n",
       "      <td>negative results reported (i.e. no effect)</td>\n",
       "      <td>No</td>\n",
       "      <td>NaN</td>\n",
       "    </tr>\n",
       "    <tr>\n",
       "      <th>47</th>\n",
       "      <td>Lucie</td>\n",
       "      <td>Sharp et al</td>\n",
       "      <td>2013</td>\n",
       "      <td>A re-assessment of the effects of treatment wi...</td>\n",
       "      <td>10.1016/j.expneurol.2013.06.023</td>\n",
       "      <td>English</td>\n",
       "      <td>NaN</td>\n",
       "      <td>included</td>\n",
       "      <td>NaN</td>\n",
       "      <td>NaN</td>\n",
       "      <td>...</td>\n",
       "      <td>6 weeks</td>\n",
       "      <td>yes</td>\n",
       "      <td>no effect</td>\n",
       "      <td>There were no obvious qualitative differences ...</td>\n",
       "      <td>anesthesia: ketamine 75 mg/kg and xylazine 10 ...</td>\n",
       "      <td>Taken together, our results only partially rep...</td>\n",
       "      <td>not reported</td>\n",
       "      <td>replication study where they are actually not ...</td>\n",
       "      <td>No</td>\n",
       "      <td>NaN</td>\n",
       "    </tr>\n",
       "    <tr>\n",
       "      <th>55</th>\n",
       "      <td>Lucie</td>\n",
       "      <td>Liu et al</td>\n",
       "      <td>2015</td>\n",
       "      <td>A single bolus of docosahexaenoic acid promote...</td>\n",
       "      <td>10.1523/JNEUROSCI.0605-15.2015</td>\n",
       "      <td>English</td>\n",
       "      <td>NaN</td>\n",
       "      <td>included</td>\n",
       "      <td>NaN</td>\n",
       "      <td>NaN</td>\n",
       "      <td>...</td>\n",
       "      <td>1 day, 1 week, 3 weeks</td>\n",
       "      <td>yes</td>\n",
       "      <td>mixed effects (assessment)</td>\n",
       "      <td>Serotonin fibers in the rostral part of the le...</td>\n",
       "      <td>anesthesia: isoflurane; \"pain relief was provi...</td>\n",
       "      <td>We conclude that acute docosahexaenoic acid (D...</td>\n",
       "      <td>not reported</td>\n",
       "      <td>NaN</td>\n",
       "      <td>No</td>\n",
       "      <td>NaN</td>\n",
       "    </tr>\n",
       "    <tr>\n",
       "      <th>57</th>\n",
       "      <td>Catherine</td>\n",
       "      <td>Bimbova et al</td>\n",
       "      <td>2018</td>\n",
       "      <td>A Single Dose of Atorvastatin Applied Acutely ...</td>\n",
       "      <td>10.3390/ijms19041106</td>\n",
       "      <td>English</td>\n",
       "      <td>NaN</td>\n",
       "      <td>included</td>\n",
       "      <td>NaN</td>\n",
       "      <td>NaN</td>\n",
       "      <td>...</td>\n",
       "      <td>immediatly after injury, 4 and 24hrs after injury</td>\n",
       "      <td>not reported</td>\n",
       "      <td>positive effect</td>\n",
       "      <td>Avorstatin significantly reduced the early inf...</td>\n",
       "      <td>Anesthesia: Isoflurane (2-4%)\\nAntibiotic drug...</td>\n",
       "      <td>Atorvastatin (5 mg/kg, i.p.) injected in a sin...</td>\n",
       "      <td>Not reported</td>\n",
       "      <td>NaN</td>\n",
       "      <td>No</td>\n",
       "      <td>NaN</td>\n",
       "    </tr>\n",
       "    <tr>\n",
       "      <th>58</th>\n",
       "      <td>Catherine</td>\n",
       "      <td>Liu et al</td>\n",
       "      <td>2017</td>\n",
       "      <td>A Single Dose of Docosahexaenoic Acid Increase...</td>\n",
       "      <td>10.1089/neu.2016.4556</td>\n",
       "      <td>English</td>\n",
       "      <td>NaN</td>\n",
       "      <td>included</td>\n",
       "      <td>NaN</td>\n",
       "      <td>NaN</td>\n",
       "      <td>...</td>\n",
       "      <td>1 day, 1 week, 3 weeks</td>\n",
       "      <td>yes</td>\n",
       "      <td>no effect</td>\n",
       "      <td>DHA was only effective in combination with ext...</td>\n",
       "      <td>Subcutaneous injection of analgesic (buprenorp...</td>\n",
       "      <td>the effect of rehabilition can be enhanced adm...</td>\n",
       "      <td>Short term rehabilitation regime in the early ...</td>\n",
       "      <td>NaN</td>\n",
       "      <td>No</td>\n",
       "      <td>NaN</td>\n",
       "    </tr>\n",
       "  </tbody>\n",
       "</table>\n",
       "<p>5 rows × 77 columns</p>\n",
       "</div>"
      ],
      "text/plain": [
       "   Person in charge        Authors  Year   \n",
       "45            Lucie  Pinzon et al.  2008  \\\n",
       "47            Lucie    Sharp et al  2013   \n",
       "55            Lucie      Liu et al  2015   \n",
       "57        Catherine  Bimbova et al  2018   \n",
       "58        Catherine      Liu et al  2017   \n",
       "\n",
       "                                                Title   \n",
       "45  A re-assessment of minocycline as a neuroprote...  \\\n",
       "47  A re-assessment of the effects of treatment wi...   \n",
       "55  A single bolus of docosahexaenoic acid promote...   \n",
       "57  A Single Dose of Atorvastatin Applied Acutely ...   \n",
       "58  A Single Dose of Docosahexaenoic Acid Increase...   \n",
       "\n",
       "                        DOI or PMID Language   \n",
       "45   10.1016/j.brainres.2008.09.047  English  \\\n",
       "47  10.1016/j.expneurol.2013.06.023  English   \n",
       "55   10.1523/JNEUROSCI.0605-15.2015  English   \n",
       "57             10.3390/ijms19041106  English   \n",
       "58            10.1089/neu.2016.4556  English   \n",
       "\n",
       "   Country (e.g., where RCT was performed) Included/exclude   \n",
       "45                                     NaN         included  \\\n",
       "47                                     NaN         included   \n",
       "55                                     NaN         included   \n",
       "57                                     NaN         included   \n",
       "58                                     NaN         included   \n",
       "\n",
       "   Reason for exclusion Reason for exclusion.1  ...   \n",
       "45                  NaN                    NaN  ...  \\\n",
       "47                  NaN                    NaN  ...   \n",
       "55                  NaN                    NaN  ...   \n",
       "57                  NaN                    NaN  ...   \n",
       "58                  NaN                    NaN  ...   \n",
       "\n",
       "                              Timing of assessement.1 Was observer blinded?.1   \n",
       "45                                            6 weeks            not reported  \\\n",
       "47                                            6 weeks                     yes   \n",
       "55                             1 day, 1 week, 3 weeks                     yes   \n",
       "57  immediatly after injury, 4 and 24hrs after injury            not reported   \n",
       "58                             1 day, 1 week, 3 weeks                     yes   \n",
       "\n",
       "   Drug effect on neuroanatomical assessment   \n",
       "45                                 no effect  \\\n",
       "47                                 no effect   \n",
       "55                mixed effects (assessment)   \n",
       "57                           positive effect   \n",
       "58                                 no effect   \n",
       "\n",
       "   Drug effect on neuroanatomical assessment (details)   \n",
       "45  spared tissue area or cavitation were not sign...   \\\n",
       "47  There were no obvious qualitative differences ...    \n",
       "55  Serotonin fibers in the rostral part of the le...    \n",
       "57  Avorstatin significantly reduced the early inf...    \n",
       "58  DHA was only effective in combination with ext...    \n",
       "\n",
       "            Drugs given to treat infections/pain ect.   \n",
       "45  anesthesia: inhaled halothane was followed by ...  \\\n",
       "47  anesthesia: ketamine 75 mg/kg and xylazine 10 ...   \n",
       "55  anesthesia: isoflurane; \"pain relief was provi...   \n",
       "57  Anesthesia: Isoflurane (2-4%)\\nAntibiotic drug...   \n",
       "58  Subcutaneous injection of analgesic (buprenorp...   \n",
       "\n",
       "                                  Conclusion of study   \n",
       "45  Administration of minocycline after SCI did no...  \\\n",
       "47  Taken together, our results only partially rep...   \n",
       "55  We conclude that acute docosahexaenoic acid (D...   \n",
       "57  Atorvastatin (5 mg/kg, i.p.) injected in a sin...   \n",
       "58  the effect of rehabilition can be enhanced adm...   \n",
       "\n",
       "                                          Limitations   \n",
       "45                                       not reported  \\\n",
       "47                                       not reported   \n",
       "55                                       not reported   \n",
       "57                                       Not reported   \n",
       "58  Short term rehabilitation regime in the early ...   \n",
       "\n",
       "                                     Remarks/Comments   \n",
       "45         negative results reported (i.e. no effect)  \\\n",
       "47  replication study where they are actually not ...   \n",
       "55                                                NaN   \n",
       "57                                                NaN   \n",
       "58                                                NaN   \n",
       "\n",
       "   Combination of drugs tested Contradictions present in the results  \n",
       "45                          No                                   NaN  \n",
       "47                          No                                   NaN  \n",
       "55                          No                                   NaN  \n",
       "57                          No                                   NaN  \n",
       "58                          No                                   NaN  \n",
       "\n",
       "[5 rows x 77 columns]"
      ]
     },
     "execution_count": 2,
     "metadata": {},
     "output_type": "execute_result"
    }
   ],
   "source": [
    "data = pd.read_csv(DATA_PATH / \"data-extracted-20230818.csv\")\n",
    "animal_data = data[\n",
    "    (data[\"Included/exclude\"] == \"included\") & (data[\"Species\"] != \"human\")\n",
    "]\n",
    "animal_data.head()"
   ]
  },
  {
   "cell_type": "code",
   "execution_count": 3,
   "metadata": {
    "ExecuteTime": {
     "end_time": "2023-08-21T07:33:06.323732Z",
     "start_time": "2023-08-21T07:33:06.320274Z"
    }
   },
   "outputs": [
    {
     "data": {
      "text/plain": [
       "(464, 77)"
      ]
     },
     "execution_count": 3,
     "metadata": {},
     "output_type": "execute_result"
    }
   ],
   "source": [
    "animal_data.shape"
   ]
  },
  {
   "cell_type": "code",
   "execution_count": 4,
   "metadata": {
    "ExecuteTime": {
     "end_time": "2023-08-21T07:33:06.327851Z",
     "start_time": "2023-08-21T07:33:06.325036Z"
    }
   },
   "outputs": [
    {
     "data": {
      "text/plain": [
       "(377,)"
      ]
     },
     "execution_count": 4,
     "metadata": {},
     "output_type": "execute_result"
    }
   ],
   "source": [
    "animal_data[\"DOI or PMID\"].unique().shape"
   ]
  },
  {
   "cell_type": "code",
   "execution_count": 5,
   "metadata": {
    "ExecuteTime": {
     "end_time": "2023-08-21T07:33:06.334756Z",
     "start_time": "2023-08-21T07:33:06.328637Z"
    }
   },
   "outputs": [
    {
     "data": {
      "text/plain": [
       "array(['T9 - T10', 'T6 - T7', 'C4 - C5', 'T9', 'T11 - T12', 'T10',\n",
       "       'C3 - C4', 'T12 - T13', 'T11', 'T8 - T10', 'T12', 'T8 - T9',\n",
       "       'T5 - T8', 'C2 - C4', 'C7', 'lumbar - sacral', 'C5',\n",
       "       'mid-thoracic', 'T4', 'T8', 'C2', 'T7', 'T7 - T9', 'Not reported',\n",
       "       'T7 - T10', 'T3', 'C7 - T1', 'C4', 'T10 - T11', 'T9 - T11',\n",
       "       'thoracic', 'T13', 'T12 - L1', 'T6 - T10', 'L2', 'T7 - T8', 'T1',\n",
       "       'T9 + C5', 'T6', 'T6 - T9', 'T8 - T11',\n",
       "       'level of 13 segments caudal to the anus (about 60% of the total body length)',\n",
       "       'T3 - T4', 'L3 - L4', 'C7 - C8', 'T4 + T12', 'T8 - T12', 'C8 - T1',\n",
       "       'T10 - T12', 'T6 - T8', 'C5 - C6',\n",
       "       'group 1: T7 - T9 \\ngroup 2: T12', 'L1', 'L1 - L2', 'T13 - L1',\n",
       "       nan, 'C6', 'cervical', 'L4'], dtype=object)"
      ]
     },
     "execution_count": 5,
     "metadata": {},
     "output_type": "execute_result"
    }
   ],
   "source": [
    "animal_data[\"Injury level\"].unique()"
   ]
  },
  {
   "cell_type": "code",
   "execution_count": 6,
   "metadata": {
    "ExecuteTime": {
     "end_time": "2023-08-21T07:33:06.335535Z",
     "start_time": "2023-08-21T07:33:06.332855Z"
    }
   },
   "outputs": [
    {
     "name": "stderr",
     "output_type": "stream",
     "text": [
      "/var/folders/vk/14gd1sx100d0h0k10gy52xlw0000gq/T/ipykernel_7860/3742446650.py:1: SettingWithCopyWarning: \n",
      "A value is trying to be set on a copy of a slice from a DataFrame.\n",
      "Try using .loc[row_indexer,col_indexer] = value instead\n",
      "\n",
      "See the caveats in the documentation: https://pandas.pydata.org/pandas-docs/stable/user_guide/indexing.html#returning-a-view-versus-a-copy\n",
      "  animal_data[\"Injury level\"] = animal_data[\"Injury level\"].str.strip()\n"
     ]
    }
   ],
   "source": [
    "animal_data[\"Injury level\"] = animal_data[\"Injury level\"].str.strip()\n",
    "# filter injury patterns to only include single levels or valid ranges (lvl - lvl);\n",
    "# combination of multiple levels (e.g. T9 + C5) not considered valid\n",
    "injury_lvl_pattern = re.compile(\n",
    "    \"^([CTL][1-9]{1}[0-4]{0,1})(?!\\+)( - )?([CTL][1-9]{1}[0-3]{0,4})?\"\n",
    ")\n",
    "injury_lvls = []\n",
    "for lvl in animal_data[\"Injury level\"].unique():\n",
    "    try:\n",
    "        m = injury_lvl_pattern.fullmatch(lvl)\n",
    "        if m:\n",
    "            injury_lvls.append(lvl)\n",
    "    except:\n",
    "        pass"
   ]
  },
  {
   "cell_type": "code",
   "execution_count": 7,
   "metadata": {
    "ExecuteTime": {
     "end_time": "2023-08-21T07:33:06.338559Z",
     "start_time": "2023-08-21T07:33:06.336074Z"
    }
   },
   "outputs": [
    {
     "data": {
      "text/plain": [
       "['T9 - T10',\n",
       " 'T6 - T7',\n",
       " 'C4 - C5',\n",
       " 'T9',\n",
       " 'T11 - T12',\n",
       " 'T10',\n",
       " 'C3 - C4',\n",
       " 'T12 - T13',\n",
       " 'T11',\n",
       " 'T8 - T10']"
      ]
     },
     "execution_count": 7,
     "metadata": {},
     "output_type": "execute_result"
    }
   ],
   "source": [
    "injury_lvls[:10]"
   ]
  },
  {
   "cell_type": "code",
   "execution_count": 8,
   "metadata": {
    "ExecuteTime": {
     "end_time": "2023-08-21T07:33:06.347950Z",
     "start_time": "2023-08-21T07:33:06.340145Z"
    }
   },
   "outputs": [
    {
     "data": {
      "text/plain": [
       "Injury level\n",
       "T9 - T10     50\n",
       "T6 - T7      14\n",
       "C4 - C5       3\n",
       "T9           62\n",
       "T11 - T12     2\n",
       "Name: count, dtype: int64"
      ]
     },
     "execution_count": 8,
     "metadata": {},
     "output_type": "execute_result"
    }
   ],
   "source": [
    "animal_data[\"Injury level\"].value_counts()[injury_lvls].head()"
   ]
  },
  {
   "cell_type": "code",
   "execution_count": 9,
   "metadata": {
    "ExecuteTime": {
     "end_time": "2023-08-21T07:33:06.371711Z",
     "start_time": "2023-08-21T07:33:06.344230Z"
    }
   },
   "outputs": [
    {
     "data": {
      "text/plain": [
       "Injury level\n",
       "T9 - T10     50\n",
       "T6 - T7      14\n",
       "C4 - C5       3\n",
       "T11 - T12     2\n",
       "C3 - C4       1\n",
       "T12 - T13     5\n",
       "T8 - T10      8\n",
       "T8 - T9      16\n",
       "T5 - T8       3\n",
       "C2 - C4       2\n",
       "T7 - T9      12\n",
       "T7 - T10     16\n",
       "C7 - T1       4\n",
       "T10 - T11     3\n",
       "T9 - T11      5\n",
       "T12 - L1      3\n",
       "T6 - T10      1\n",
       "T7 - T8       8\n",
       "T6 - T9       1\n",
       "T8 - T11      1\n",
       "T3 - T4       2\n",
       "L3 - L4       2\n",
       "C7 - C8       1\n",
       "T8 - T12      2\n",
       "C8 - T1       1\n",
       "T10 - T12     2\n",
       "T6 - T8       1\n",
       "C5 - C6       1\n",
       "L1 - L2       1\n",
       "T13 - L1      1\n",
       "Name: count, dtype: int64"
      ]
     },
     "execution_count": 9,
     "metadata": {},
     "output_type": "execute_result"
    }
   ],
   "source": [
    "# ranges only\n",
    "animal_data[\"Injury level\"].value_counts()[injury_lvls].filter(\n",
    "    regex=\"[CTL][0-9]{1,2} -\"\n",
    ")"
   ]
  },
  {
   "cell_type": "code",
   "execution_count": 10,
   "metadata": {
    "ExecuteTime": {
     "end_time": "2023-08-21T07:33:06.398075Z",
     "start_time": "2023-08-21T07:33:06.347534Z"
    }
   },
   "outputs": [
    {
     "data": {
      "text/plain": [
       "Injury level\n",
       "C2         2\n",
       "C2 - C4    2\n",
       "C3 - C4    1\n",
       "C4         3\n",
       "C4 - C5    3\n",
       "Name: count, dtype: int64"
      ]
     },
     "execution_count": 10,
     "metadata": {},
     "output_type": "execute_result"
    }
   ],
   "source": [
    "# try sorting; not perfect\n",
    "nlis_value_count = animal_data[\"Injury level\"].value_counts()[injury_lvls].sort_index(\n",
    "    key=lambda x: x.str.split(\"-\")\n",
    ")\n",
    "nlis_value_count.head(5)"
   ]
  },
  {
   "cell_type": "code",
   "execution_count": 11,
   "metadata": {
    "ExecuteTime": {
     "end_time": "2023-08-21T07:33:06.416729Z",
     "start_time": "2023-08-21T07:33:06.354028Z"
    }
   },
   "outputs": [
    {
     "data": {
      "text/plain": [
       "Injury level\n",
       "C2         2\n",
       "C2 - C4    2\n",
       "C3 - C4    1\n",
       "C4         3\n",
       "C4 - C5    3\n",
       "C5         6\n",
       "C5 - C6    1\n",
       "C6         1\n",
       "C7         7\n",
       "C7 - C8    1\n",
       "C7 - T1    4\n",
       "C8 - T1    1\n",
       "Name: count, dtype: int64"
      ]
     },
     "execution_count": 11,
     "metadata": {},
     "output_type": "execute_result"
    }
   ],
   "source": [
    "nlis_value_count[nlis_value_count.index.str.startswith(\"C\")]"
   ]
  },
  {
   "cell_type": "code",
   "execution_count": 12,
   "metadata": {
    "ExecuteTime": {
     "end_time": "2023-08-21T07:33:06.417072Z",
     "start_time": "2023-08-21T07:33:06.358499Z"
    }
   },
   "outputs": [
    {
     "data": {
      "text/plain": [
       "Injury level\n",
       "T1            7\n",
       "T10          87\n",
       "T10 - T11     3\n",
       "T10 - T12     2\n",
       "T11           9\n",
       "T11 - T12     2\n",
       "T12          23\n",
       "T12 - L1      3\n",
       "T12 - T13     5\n",
       "T13           2\n",
       "T13 - L1      1\n",
       "T3            7\n",
       "T3 - T4       2\n",
       "T4            5\n",
       "T5 - T8       3\n",
       "T6            2\n",
       "T6 - T10      1\n",
       "T6 - T7      14\n",
       "T6 - T8       1\n",
       "T6 - T9       1\n",
       "T7            6\n",
       "T7 - T10     16\n",
       "T7 - T8       8\n",
       "T7 - T9      12\n",
       "T8           28\n",
       "T8 - T10      8\n",
       "T8 - T11      1\n",
       "T8 - T12      2\n",
       "T8 - T9      16\n",
       "T9           62\n",
       "T9 - T10     50\n",
       "T9 - T11      5\n",
       "Name: count, dtype: int64"
      ]
     },
     "execution_count": 12,
     "metadata": {},
     "output_type": "execute_result"
    }
   ],
   "source": [
    "nlis_value_count[nlis_value_count.index.str.startswith(\"T\")]"
   ]
  },
  {
   "cell_type": "code",
   "execution_count": 13,
   "metadata": {
    "ExecuteTime": {
     "end_time": "2023-08-21T07:33:06.417203Z",
     "start_time": "2023-08-21T07:33:06.365231Z"
    }
   },
   "outputs": [
    {
     "data": {
      "text/plain": [
       "Injury level\n",
       "L1         3\n",
       "L1 - L2    1\n",
       "L2         2\n",
       "L3 - L4    2\n",
       "L4         1\n",
       "Name: count, dtype: int64"
      ]
     },
     "execution_count": 13,
     "metadata": {},
     "output_type": "execute_result"
    }
   ],
   "source": [
    "nlis_value_count[nlis_value_count.index.str.startswith(\"L\")]"
   ]
  },
  {
   "cell_type": "code",
   "execution_count": 14,
   "metadata": {
    "ExecuteTime": {
     "end_time": "2023-08-21T07:33:06.721332Z",
     "start_time": "2023-08-21T07:33:06.376919Z"
    }
   },
   "outputs": [
    {
     "data": {
      "image/png": "[encoded data removed]",
      "text/plain": [
       "<Figure size 640x480 with 1 Axes>"
      ]
     },
     "metadata": {},
     "output_type": "display_data"
    }
   ],
   "source": [
    "plt.rcParams[\"font.family\"] = \"sans-serif\"\n",
    "plt.rcParams[\"font.sans-serif\"] = \"Avenir\"\n",
    "plt.rcParams[\"figure.titlesize\"] = 12\n",
    "plt.rcParams[\"axes.titlesize\"] = 12\n",
    "plt.rcParams[\"xtick.labelsize\"] = 10\n",
    "plt.rcParams[\"ytick.labelsize\"] = 10\n",
    "plt.rcParams[\"legend.title_fontsize\"] = 10\n",
    "plt.rcParams[\"font.size\"] = 10\n",
    "\n",
    "\n",
    "def plot_injury_lvls(\n",
    "    injury_lvl_counts,\n",
    "    highlight_regions=False,\n",
    "    use_color=False,\n",
    "    legend=\"cbar\",\n",
    "    color_spacing=\"proportional\",\n",
    "):\n",
    "    \"\"\"\n",
    "    injury_lvl_counts[pd.Series]: Series with injury level (or range) as index and\n",
    "        counts as values.\n",
    "    highlight_regions[bool]: indicate whether different spinal regions should be\n",
    "        highlighted using background colour\n",
    "    use_color[bool]: indicate whether NLI (range) count should be hihglighted using\n",
    "        colours\n",
    "    legend[\"cbar\", \"cat\"]: style of legend (cbar ~ colourbar, cat ~ categories)\n",
    "    color_spacing[\"proportional\", \"uniform\"]: spacing in colourbar\n",
    "    \"\"\"\n",
    "    y_tick_labels = (\n",
    "        [f\"C{i}\" for i in range(1, 9)]\n",
    "        + [f\"T{i}\" for i in range(1, 14)]\n",
    "        + [f\"L{i}\" for i in range(1, 6)]\n",
    "    )\n",
    "    y_tick_mapping = {\n",
    "        lbl: coord for lbl, coord in zip(y_tick_labels, np.arange(len(y_tick_labels), 0, -1))\n",
    "    }\n",
    "    injury_lvls_sorted = sorted(\n",
    "        injury_lvl_counts.index.to_list(),\n",
    "        key=lambda x: (y_tick_mapping[x.split(\"-\")[0].strip()], -len(x)),\n",
    "        reverse=True,\n",
    "    )\n",
    "\n",
    "    fig, ax = plt.subplots(1, 1)\n",
    "    ax.set_ylim(0.5, len(y_tick_labels) + 0.5)\n",
    "    ax.set_yticks(np.arange(1, len(y_tick_labels) + 1, 1))\n",
    "    ax.set_yticklabels(y_tick_labels[::-1], size=8)\n",
    "    ax.set_xlim(0.5, injury_lvl_counts.shape[0] + 0.5)\n",
    "    ax.tick_params(axis=\"x\", bottom=False, labelbottom=False)\n",
    "\n",
    "    if use_color:\n",
    "        cmap = matplotlib.colors.LinearSegmentedColormap.from_list(\n",
    "            \"custom cmap\", [\"#D9B061\", \"#C86343\", \"#1C98C4\"]\n",
    "        )\n",
    "        bounds = [1, 5, 20, ((injury_lvl_counts.max() // 5 + 1) * 5)]\n",
    "        norm = matplotlib.colors.BoundaryNorm(bounds, cmap.N)\n",
    "        sm = matplotlib.cm.ScalarMappable(cmap=cmap, norm=norm)\n",
    "        if legend == \"cbar\":\n",
    "            ax_inset = inset_axes(\n",
    "                ax,\n",
    "                width=\"25%\",\n",
    "                height=\"5%\",\n",
    "                loc=\"upper right\",\n",
    "                borderpad=0.75,\n",
    "            )\n",
    "            cbar = fig.colorbar(\n",
    "                sm,\n",
    "                cax=ax_inset,\n",
    "                orientation=\"horizontal\",\n",
    "                spacing=color_spacing,\n",
    "            )\n",
    "            cbar.set_ticks([1, 5, 20, 87])\n",
    "            cbar.ax.tick_params(labelsize=8)\n",
    "        if legend == \"cat\":\n",
    "            legend_circles = [\n",
    "                matplotlib.lines.Line2D(\n",
    "                    [],\n",
    "                    [],\n",
    "                    linewidth=0,\n",
    "                    marker=\"o\",\n",
    "                    markersize=7.5,\n",
    "                    markerfacecolor=sm.to_rgba(c),\n",
    "                    markeredgecolor=\"white\",\n",
    "                )\n",
    "                for c in [1, 6, 21]\n",
    "            ]\n",
    "            ax.legend(\n",
    "                legend_circles,\n",
    "                [\n",
    "                    \"1 to 5\",\n",
    "                    \"6 to 20\",\n",
    "                    f\"21 to {np.round(injury_lvl_counts.max() / 10, decimals=0) * 10: .0f}\"\n",
    "                ],\n",
    "                title=\"Number of experiments\",\n",
    "                fontsize=10,\n",
    "                title_fontsize=10,\n",
    "            )\n",
    "    for i, injury_lvl in enumerate(injury_lvls_sorted):\n",
    "        try:\n",
    "            start, end = injury_lvl.split(\"-\")\n",
    "            start, end = start.strip(), end.strip()\n",
    "        except ValueError:\n",
    "            start, end = injury_lvl, injury_lvl\n",
    "\n",
    "        ax.plot(\n",
    "            [i + 1, i + 1],\n",
    "            [y_tick_mapping[start], y_tick_mapping[end]],\n",
    "            marker=\"o\",\n",
    "            color=sm.to_rgba(injury_lvl_counts[injury_lvl]) if use_color else \"k\",\n",
    "        )\n",
    "        ax.text(\n",
    "            i + 1,\n",
    "            y_tick_mapping[start] + 0.5,\n",
    "            injury_lvl_counts[injury_lvl],\n",
    "            ha=\"center\",\n",
    "            size=8,\n",
    "        )\n",
    "    if highlight_regions:\n",
    "        # use different background colours to highlight spinal regions\n",
    "        ax.axhspan(\n",
    "            y_tick_mapping[\"C8\"] - 0.5, ax.get_ylim()[1], facecolor=\"#00629A\", alpha=0.1\n",
    "        )\n",
    "        ax.axhspan(\n",
    "            y_tick_mapping[\"T13\"] - 0.5,\n",
    "            y_tick_mapping[\"C8\"] - 0.5,\n",
    "            facecolor=\"#D97847\",\n",
    "            alpha=0.1,\n",
    "        )\n",
    "        ax.axhspan(\n",
    "            ax.get_ylim()[0], y_tick_mapping[\"T13\"] - 0.5, facecolor=\"k\", alpha=0.1\n",
    "        )\n",
    "    # options for frame\n",
    "    ax.spines[\"right\"].set_visible(False)\n",
    "    ax.spines[\"top\"].set_visible(False)\n",
    "    ax.yaxis.set_ticks_position(\"left\")\n",
    "    ax.tick_params(axis=\"y\", which=\"major\", labelsize=10)\n",
    "    # ...and grid lines\n",
    "    ax.grid(True, axis=\"y\", linewidth=0.2)\n",
    "\n",
    "    fig.suptitle(\"Injury levels (animal studies)\", y=0.99)\n",
    "    fig.tight_layout(pad=0.25)\n",
    "    return fig\n",
    "\n",
    "\n",
    "fig = plot_injury_lvls(\n",
    "    animal_data[\"Injury level\"].value_counts()[injury_lvls],\n",
    "    highlight_regions=True,\n",
    "    use_color=True,\n",
    "    legend=\"cat\",\n",
    "    color_spacing=\"proportional\",\n",
    ")\n",
    "# fig.savefig(FIGURE_PATH / \"Figure2X-NLI-levels-and-ranges.eps\", dpi=300)"
   ]
  }
 ],
 "metadata": {
  "kernelspec": {
   "display_name": "Python 3 (ipykernel)",
   "language": "python",
   "name": "python3"
  },
  "language_info": {
   "codemirror_mode": {
    "name": "ipython",
    "version": 3
   },
   "file_extension": ".py",
   "mimetype": "text/x-python",
   "name": "python",
   "nbconvert_exporter": "python",
   "pygments_lexer": "ipython3",
   "version": "3.10.10"
  }
 },
 "nbformat": 4,
 "nbformat_minor": 2
}
